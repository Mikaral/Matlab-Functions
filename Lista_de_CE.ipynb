{
  "cells": [
    {
      "cell_type": "markdown",
      "metadata": {
        "id": "view-in-github",
        "colab_type": "text"
      },
      "source": [
        "<a href=\"https://colab.research.google.com/github/Mikaral/Matlab-Functions/blob/main/Lista_de_CE.ipynb\" target=\"_parent\"><img src=\"https://colab.research.google.com/assets/colab-badge.svg\" alt=\"Open In Colab\"/></a>"
      ]
    },
    {
      "cell_type": "code",
      "source": [
        "#https://tinyurl.com/26pzqby7\n",
        "import sys\n",
        "!git clone https://github.com/edsonportosilva/ElectricCircuits.git\n",
        "sys.path.insert(0, '/content/ElectricCircuits/Jupyter notebooks/')"
      ],
      "metadata": {
        "id": "PtrFgIfx1Ld-",
        "outputId": "5e5d1870-fd4b-46f6-d627-239c7134ae22",
        "colab": {
          "base_uri": "https://localhost:8080/"
        }
      },
      "execution_count": 2,
      "outputs": [
        {
          "output_type": "stream",
          "name": "stdout",
          "text": [
            "Cloning into 'ElectricCircuits'...\n",
            "remote: Enumerating objects: 1020, done.\u001b[K\n",
            "remote: Counting objects: 100% (7/7), done.\u001b[K\n",
            "remote: Compressing objects: 100% (7/7), done.\u001b[K\n",
            "remote: Total 1020 (delta 1), reused 3 (delta 0), pack-reused 1013\u001b[K\n",
            "Receiving objects: 100% (1020/1020), 130.90 MiB | 20.10 MiB/s, done.\n",
            "Resolving deltas: 100% (586/586), done.\n",
            "Checking out files: 100% (318/318), done.\n"
          ]
        }
      ]
    },
    {
      "cell_type": "code",
      "source": [
        "import sympy as sp\n",
        "import numpy as np\n",
        "from matplotlib.pyplot import plot as plt\n",
        "from utils import round_expr, symdisp, symplot\n",
        "from sympy.polys.partfrac import apart"
      ],
      "metadata": {
        "id": "q6TSbRXT1P-o"
      },
      "execution_count": 3,
      "outputs": []
    },
    {
      "cell_type": "code",
      "source": [
        "# funções para auxílio na expansão em frações parciais\n",
        "def adjustCoeff(expr):    \n",
        "    coeff = expr.as_numer_denom()\n",
        "    c0 = sp.poly(coeff[1].cancel()).coeffs()[0]\n",
        "    \n",
        "    return (coeff[0].cancel()/c0)/(coeff[1].cancel()/c0)\n",
        "\n",
        "def partFrac(expr, Ndigits):\n",
        "    expr = expr.cancel()\n",
        "    expr = apart(adjustCoeff(expr), s, full=True).doit()\n",
        "    \n",
        "    return sp.N(expr, Ndigits)"
      ],
      "metadata": {
        "id": "uAisWMBi5gnT"
      },
      "execution_count": 4,
      "outputs": []
    },
    {
      "cell_type": "code",
      "source": [
        "v = sp.symbols('v')\n",
        "\n",
        "eq1 = sp.Eq((100-v)/4, v+(v/10))\n",
        "solution = sp.solve(eq1, v)\n",
        "print(solution)\n",
        "i1 = (100-solution[0])/4\n",
        "print(i1)\n",
        "v1 = i1*2\n",
        "print(v1)"
      ],
      "metadata": {
        "id": "T-xDS1cZ1UXq",
        "outputId": "c31b594d-78e6-41a5-dbf3-dfd4a6cf22e0",
        "colab": {
          "base_uri": "https://localhost:8080/"
        }
      },
      "execution_count": 5,
      "outputs": [
        {
          "output_type": "stream",
          "name": "stdout",
          "text": [
            "[500/27]\n",
            "550/27\n",
            "1100/27\n"
          ]
        }
      ]
    },
    {
      "cell_type": "code",
      "source": [
        "X,Y,Z,s = sp.symbols('X, Y, Z, s')\n",
        "\n",
        "i1 = -(X-(100/s))/2\n",
        "i2 = (X - Y) / 2\n",
        "i3 = Y\n",
        "il1 = (Y-Z)/(0.4*s)\n",
        "il2 = (Z+1)/(s+10)\n",
        "ic = (X - (Z + (10/s)))/(4000/s)\n",
        "\n",
        "eq1 = sp.Eq(i1, i2+ic).simplify()\n",
        "eq2 = sp.Eq(i2,i3+il1).simplify()\n",
        "eq3 = sp.Eq(il2,ic+il1).simplify()"
      ],
      "metadata": {
        "id": "qmxVkzbl1fRE"
      },
      "execution_count": 6,
      "outputs": []
    },
    {
      "cell_type": "code",
      "source": [
        "eq1"
      ],
      "metadata": {
        "id": "N7PXvjtS1hqj",
        "outputId": "b9b3d9cf-e256-427b-9c56-c879d739cae3",
        "colab": {
          "base_uri": "https://localhost:8080/",
          "height": 53
        }
      },
      "execution_count": null,
      "outputs": [
        {
          "output_type": "execute_result",
          "data": {
            "text/plain": [
              "Eq(X/2 - 50/s, -X/2 + Y/2 - s*(X - Z)/4000 + 1/400)"
            ],
            "text/latex": "$\\displaystyle \\frac{X}{2} - \\frac{50}{s} = - \\frac{X}{2} + \\frac{Y}{2} - \\frac{s \\left(X - Z\\right)}{4000} + \\frac{1}{400}$"
          },
          "metadata": {},
          "execution_count": 7
        }
      ]
    },
    {
      "cell_type": "code",
      "source": [
        "eq2"
      ],
      "metadata": {
        "id": "pDKSRKqP1i-3",
        "outputId": "4b5d5bfb-f31e-40ba-802e-75f71cbe3774",
        "colab": {
          "base_uri": "https://localhost:8080/",
          "height": 52
        }
      },
      "execution_count": null,
      "outputs": [
        {
          "output_type": "execute_result",
          "data": {
            "text/plain": [
              "Eq(X/2 - Y/2, (Y*s + 2.5*Y - 2.5*Z)/s)"
            ],
            "text/latex": "$\\displaystyle \\frac{X}{2} - \\frac{Y}{2} = \\frac{Y s + 2.5 Y - 2.5 Z}{s}$"
          },
          "metadata": {},
          "execution_count": 8
        }
      ]
    },
    {
      "cell_type": "code",
      "source": [
        "eq3"
      ],
      "metadata": {
        "id": "-boPYLCp1kQA",
        "outputId": "c510e94f-a79d-44c2-f9e0-a2b786053744",
        "colab": {
          "base_uri": "https://localhost:8080/",
          "height": 54
        }
      },
      "execution_count": null,
      "outputs": [
        {
          "output_type": "execute_result",
          "data": {
            "text/plain": [
              "Eq((Z + 1)/(s + 10), (10000.0*Y - 10000.0*Z - s*(s*(-X + Z) + 10))/(4000*s))"
            ],
            "text/latex": "$\\displaystyle \\frac{Z + 1}{s + 10} = \\frac{10000.0 Y - 10000.0 Z - s \\left(s \\left(- X + Z\\right) + 10\\right)}{4000 s}$"
          },
          "metadata": {},
          "execution_count": 9
        }
      ]
    },
    {
      "cell_type": "code",
      "source": [
        "solutionNode = sp.solve([eq1, eq2, eq3], [X,Y,Z], dict=True)[0]"
      ],
      "metadata": {
        "id": "HC3Ocpff1mMu"
      },
      "execution_count": null,
      "outputs": []
    },
    {
      "cell_type": "code",
      "source": [
        "solutionNode"
      ],
      "metadata": {
        "id": "wr8JMNVz1p9U",
        "outputId": "e48d6b2e-1724-4f62-d8f4-7288dd793d76",
        "colab": {
          "base_uri": "https://localhost:8080/"
        }
      },
      "execution_count": null,
      "outputs": [
        {
          "output_type": "execute_result",
          "data": {
            "text/plain": [
              "{X: (294.0*s**3 + 3650.0*s**2 + 4186100.0*s + 32000000.0)/(5.0*s**4 + 71.0*s**3 + 70160.0*s**2 + 540000.0*s),\n",
              " Y: (98.0*s**3 + 1460.0*s**2 + 1364500.0*s + 10000000.0)/(5.0*s**4 + 71.0*s**3 + 70160.0*s**2 + 540000.0*s),\n",
              " Z: (244.0*s**3 - 17060.0*s**2 + 964500.0*s + 10000000.0)/(5.0*s**4 + 71.0*s**3 + 70160.0*s**2 + 540000.0*s)}"
            ]
          },
          "metadata": {},
          "execution_count": 11
        }
      ]
    },
    {
      "cell_type": "code",
      "source": [
        "il1 = il1.subs({X:solutionNode[X],Y:solutionNode[Y],Z:solutionNode[Z]}).simplify()\n",
        "il2 = il2.subs({X:solutionNode[X],Y:solutionNode[Y],Z:solutionNode[Z]}).simplify()\n",
        "vc = (solutionNode[X]-solutionNode[Z])"
      ],
      "metadata": {
        "id": "v9-aE7gF1ywr"
      },
      "execution_count": null,
      "outputs": []
    },
    {
      "cell_type": "code",
      "source": [
        "il1"
      ],
      "metadata": {
        "id": "c5GO3pgl17Ff",
        "outputId": "633bd356-ce06-46d3-8cb4-fd5e941bb6d4",
        "colab": {
          "base_uri": "https://localhost:8080/",
          "height": 58
        }
      },
      "execution_count": null,
      "outputs": [
        {
          "output_type": "execute_result",
          "data": {
            "text/plain": [
              "(-365.0*s**2 + 46300.0*s + 1000000.0)/(s*(5.0*s**3 + 71.0*s**2 + 70160.0*s + 540000.0))"
            ],
            "text/latex": "$\\displaystyle \\frac{- 365.0 s^{2} + 46300.0 s + 1000000.0}{s \\left(5.0 s^{3} + 71.0 s^{2} + 70160.0 s + 540000.0\\right)}$"
          },
          "metadata": {},
          "execution_count": 14
        }
      ]
    },
    {
      "cell_type": "code",
      "source": [
        "il2"
      ],
      "metadata": {
        "id": "4XcG2oWT18CI",
        "outputId": "47d75038-8d91-45a7-d274-2602a0f26acc",
        "colab": {
          "base_uri": "https://localhost:8080/",
          "height": 58
        }
      },
      "execution_count": null,
      "outputs": [
        {
          "output_type": "execute_result",
          "data": {
            "text/plain": [
              "(5.0*s**3 + 265.0*s**2 + 50450.0*s + 1000000.0)/(s*(5.0*s**3 + 71.0*s**2 + 70160.0*s + 540000.0))"
            ],
            "text/latex": "$\\displaystyle \\frac{5.0 s^{3} + 265.0 s^{2} + 50450.0 s + 1000000.0}{s \\left(5.0 s^{3} + 71.0 s^{2} + 70160.0 s + 540000.0\\right)}$"
          },
          "metadata": {},
          "execution_count": 15
        }
      ]
    },
    {
      "cell_type": "code",
      "source": [
        "vc"
      ],
      "metadata": {
        "id": "m681EML718-k",
        "outputId": "92530434-1782-4f4f-9d3e-52c51a4fa9b9",
        "colab": {
          "base_uri": "https://localhost:8080/",
          "height": 55
        }
      },
      "execution_count": null,
      "outputs": [
        {
          "output_type": "execute_result",
          "data": {
            "text/plain": [
              "-(244.0*s**3 - 17060.0*s**2 + 964500.0*s + 10000000.0)/(5.0*s**4 + 71.0*s**3 + 70160.0*s**2 + 540000.0*s) + (294.0*s**3 + 3650.0*s**2 + 4186100.0*s + 32000000.0)/(5.0*s**4 + 71.0*s**3 + 70160.0*s**2 + 540000.0*s)"
            ],
            "text/latex": "$\\displaystyle - \\frac{244.0 s^{3} - 17060.0 s^{2} + 964500.0 s + 10000000.0}{5.0 s^{4} + 71.0 s^{3} + 70160.0 s^{2} + 540000.0 s} + \\frac{294.0 s^{3} + 3650.0 s^{2} + 4186100.0 s + 32000000.0}{5.0 s^{4} + 71.0 s^{3} + 70160.0 s^{2} + 540000.0 s}$"
          },
          "metadata": {},
          "execution_count": 16
        }
      ]
    },
    {
      "cell_type": "code",
      "source": [
        "i1,i2,i3 = sp.symbols(\"I_1, I_2, I_3\")\n",
        "m1 = sp.Eq(2*i1 - (100/s) + 2*(i1-i2)+(i1-i3), 0)\n",
        "m2 = sp.Eq((4000/s)*i2-(0.4*s*(i3-i2))-(2*(i1-i2)) + 10/s, 0)\n",
        "m3 = sp.Eq((-1*(i1-i3))+(0.4*s*(i3-i2))+((s*i3)-1)+(10*i3), 0)\n",
        "m1 = m1.simplify()\n",
        "m2 = m2.simplify()\n",
        "m3 = m3.simplify()"
      ],
      "metadata": {
        "id": "8ZQBmb_n1-3l"
      },
      "execution_count": null,
      "outputs": []
    },
    {
      "cell_type": "code",
      "source": [
        "solutionMesh = sp.solve([m1,m2,m3], [i1,i2,i3], dict=True)[0]"
      ],
      "metadata": {
        "id": "RJy5ymk12AIO"
      },
      "execution_count": null,
      "outputs": []
    },
    {
      "cell_type": "code",
      "source": [
        "solutionMesh"
      ],
      "metadata": {
        "id": "weYVTysf2BR_",
        "outputId": "497dd83a-d8c7-4df3-ef65-1f03a295ccd1",
        "colab": {
          "base_uri": "https://localhost:8080/"
        }
      },
      "execution_count": null,
      "outputs": [
        {
          "output_type": "execute_result",
          "data": {
            "text/plain": [
              "{I_1: (103.0*s**3 + 1725.0*s**2 + 1414950.0*s + 11000000.0)/(5.0*s**4 + 71.0*s**3 + 70160.0*s**2 + 540000.0*s),\n",
              " I_2: (5.0*s**2 + 630.0*s + 4150.0)/(5.0*s**3 + 71.0*s**2 + 70160.0*s + 540000.0),\n",
              " I_3: (5.0*s**3 + 265.0*s**2 + 50450.0*s + 1000000.0)/(5.0*s**4 + 71.0*s**3 + 70160.0*s**2 + 540000.0*s)}"
            ]
          },
          "metadata": {},
          "execution_count": 19
        }
      ]
    },
    {
      "cell_type": "code",
      "source": [
        "vc = ((4000/s)*solutionMesh[i2]+10/s).simplify()\n",
        "il1 = (solutionMesh[i3]-solutionMesh[i2]).simplify()\n",
        "il2  = solutionMesh[i3].simplify()"
      ],
      "metadata": {
        "id": "KWJasAvV2Cxz"
      },
      "execution_count": null,
      "outputs": []
    },
    {
      "cell_type": "code",
      "source": [
        "vc"
      ],
      "metadata": {
        "id": "anpnvR102FZi",
        "outputId": "a488f61b-305c-4235-cc3a-e722f22a838b",
        "colab": {
          "base_uri": "https://localhost:8080/",
          "height": 58
        }
      },
      "execution_count": null,
      "outputs": [
        {
          "output_type": "execute_result",
          "data": {
            "text/plain": [
              "(50.0*s**3 + 20710.0*s**2 + 3221600.0*s + 22000000.0)/(s*(5.0*s**3 + 71.0*s**2 + 70160.0*s + 540000.0))"
            ],
            "text/latex": "$\\displaystyle \\frac{50.0 s^{3} + 20710.0 s^{2} + 3221600.0 s + 22000000.0}{s \\left(5.0 s^{3} + 71.0 s^{2} + 70160.0 s + 540000.0\\right)}$"
          },
          "metadata": {},
          "execution_count": 21
        }
      ]
    },
    {
      "cell_type": "code",
      "source": [
        "il1"
      ],
      "metadata": {
        "id": "Prmnx-4U2GZ3",
        "outputId": "81392f15-5b44-45c5-e48b-db3eeb5345fb",
        "colab": {
          "base_uri": "https://localhost:8080/",
          "height": 58
        }
      },
      "execution_count": null,
      "outputs": [
        {
          "output_type": "execute_result",
          "data": {
            "text/plain": [
              "(-365.0*s**2 + 46300.0*s + 1000000.0)/(s*(5.0*s**3 + 71.0*s**2 + 70160.0*s + 540000.0))"
            ],
            "text/latex": "$\\displaystyle \\frac{- 365.0 s^{2} + 46300.0 s + 1000000.0}{s \\left(5.0 s^{3} + 71.0 s^{2} + 70160.0 s + 540000.0\\right)}$"
          },
          "metadata": {},
          "execution_count": 22
        }
      ]
    },
    {
      "cell_type": "code",
      "source": [
        "il2"
      ],
      "metadata": {
        "id": "ikUbmifw2HNv",
        "outputId": "31699edc-3ea4-4197-b866-d8711b8e4f88",
        "colab": {
          "base_uri": "https://localhost:8080/",
          "height": 58
        }
      },
      "execution_count": null,
      "outputs": [
        {
          "output_type": "execute_result",
          "data": {
            "text/plain": [
              "(5.0*s**3 + 265.0*s**2 + 50450.0*s + 1000000.0)/(s*(5.0*s**3 + 71.0*s**2 + 70160.0*s + 540000.0))"
            ],
            "text/latex": "$\\displaystyle \\frac{5.0 s^{3} + 265.0 s^{2} + 50450.0 s + 1000000.0}{s \\left(5.0 s^{3} + 71.0 s^{2} + 70160.0 s + 540000.0\\right)}$"
          },
          "metadata": {},
          "execution_count": 23
        }
      ]
    },
    {
      "cell_type": "code",
      "source": [
        "## Calculando as raízes\n",
        "rootsVc = np.roots([5,71,70160,540000,0])\n",
        "rootsVc"
      ],
      "metadata": {
        "id": "cSRp5YFL2JW4",
        "outputId": "b1c7bfa5-df1d-4e7d-a4c7-0714ec0bf6ee",
        "colab": {
          "base_uri": "https://localhost:8080/"
        }
      },
      "execution_count": null,
      "outputs": [
        {
          "output_type": "execute_result",
          "data": {
            "text/plain": [
              "array([-3.23788596+118.20108187j, -3.23788596-118.20108187j,\n",
              "       -7.72422809  +0.j        ,  0.          +0.j        ])"
            ]
          },
          "metadata": {},
          "execution_count": 24
        }
      ]
    },
    {
      "cell_type": "code",
      "source": [
        "vcFrac = partFrac(vc,2)\n",
        "#vcFrac = fracParciais(vc, 2)\n",
        "\n",
        "#vcFrac = partFrac(VC,2).as_ordered_terms()\n",
        "#il1Frac = partFrac(IL1,2).as_ordered_terms()\n",
        "#il2Frac = partFrac(IL2,2).as_ordered_terms()\n",
        "#symdisp('Vc(s) = ',vcFrac, 'Vs')\n",
        "#symdisp('I_{L1}(s) = ',IL1_, 'As')\n",
        "#symdisp('I_{L2}(s) = ',IL2_, 'As')"
      ],
      "metadata": {
        "id": "L9_79STx2ago",
        "outputId": "0d627555-dfe0-4279-bbe8-80c52b2f7f4f",
        "colab": {
          "base_uri": "https://localhost:8080/",
          "height": 53
        }
      },
      "execution_count": null,
      "outputs": [
        {
          "output_type": "execute_result",
          "data": {
            "text/plain": [
              "(-17.0 + 17.0*I)/(s + 3.2 + 1.2e+2*I) + (-17.0 - 17.0*I)/(s + 3.2 - 1.2e+2*I) + 3.1/(s + 7.7) + 41.0/s"
            ],
            "text/latex": "$\\displaystyle \\frac{-17.0 + 17.0 i}{s + 3.2 + 1.2 \\cdot 10^{2} i} + \\frac{-17.0 - 17.0 i}{s + 3.2 - 1.2 \\cdot 10^{2} i} + \\frac{3.1}{s + 7.7} + \\frac{41.0}{s}$"
          },
          "metadata": {},
          "execution_count": 35
        }
      ]
    },
    {
      "cell_type": "markdown",
      "source": [
        "## 1.f - Gere of gráficos das curvas das funções obtidas no item d."
      ],
      "metadata": {
        "id": "5TkyTtXkCXvB"
      }
    },
    {
      "cell_type": "markdown",
      "source": [
        "### Gráfico de Vc(t)"
      ],
      "metadata": {
        "id": "2XF2P06lClAh"
      }
    },
    {
      "cell_type": "code",
      "source": [
        "t = sp.symbols('t', real=True)\n",
        "vct = (40.741 + sp.exp(-7.72*t)+(2*sp.exp(-3.24*t)*(-16.92*sp.cos(118.2*t)-16.56*sp.sin(118.2*t))))*sp.Heaviside(t)\n",
        "symplot(t,vct,np.arange(0,1,.0001),'VC(t)')"
      ],
      "metadata": {
        "id": "d0c0OUDG2MyT",
        "outputId": "5d8aca44-ab71-482d-a53b-3a1b0d7a7cf9",
        "colab": {
          "base_uri": "https://localhost:8080/",
          "height": 279
        }
      },
      "execution_count": null,
      "outputs": [
        {
          "output_type": "execute_result",
          "data": {
            "text/plain": [
              "<Figure size 432x288 with 1 Axes>"
            ],
            "image/png": "[encoded data removed]"
          },
          "metadata": {},
          "execution_count": 46
        }
      ]
    },
    {
      "cell_type": "markdown",
      "source": [
        "#### Gráfico de IL1(t)"
      ],
      "metadata": {
        "id": "TR01vy_bCoqA"
      }
    },
    {
      "cell_type": "code",
      "source": [
        "il1t = (1.85 - 1.15*sp.exp(-7.72*t)+(2*sp.exp(-3.24*t)*(-0.35*sp.cos(118.2*t)-0.36*sp.sin(118.2*t))))*sp.Heaviside(t)\n",
        "symplot(t,il1t,np.arange(0,1,.0001),'IL1(t)')"
      ],
      "metadata": {
        "id": "8huTP6EH8Q5d",
        "outputId": "4d62e866-3776-4d7d-db8f-2d0918f1e891",
        "colab": {
          "base_uri": "https://localhost:8080/",
          "height": 279
        }
      },
      "execution_count": null,
      "outputs": [
        {
          "output_type": "execute_result",
          "data": {
            "text/plain": [
              "<Figure size 432x288 with 1 Axes>"
            ],
            "image/png": "[encoded data removed]"
          },
          "metadata": {},
          "execution_count": 51
        }
      ]
    },
    {
      "cell_type": "markdown",
      "source": [
        "#### Gráfico de IL2(t)"
      ],
      "metadata": {
        "id": "-unQd4HkCQAf"
      }
    },
    {
      "cell_type": "code",
      "source": [
        "il2t = (1.85 - 1.15*sp.exp(-7.72*t)+(2*sp.exp(-3.24*t)*(0.15*sp.cos(118.2*t)-0.13*sp.sin(118.2*t))))*sp.Heaviside(t)\n",
        "symplot(t,il2t,np.arange(0,1,.0001),'IL2(t)')"
      ],
      "metadata": {
        "id": "5bWg59cX8nda",
        "outputId": "dfde0f1e-0c5f-4bf7-ac58-dabf69520df9",
        "colab": {
          "base_uri": "https://localhost:8080/",
          "height": 283
        }
      },
      "execution_count": null,
      "outputs": [
        {
          "output_type": "execute_result",
          "data": {
            "text/plain": [
              "<Figure size 432x288 with 1 Axes>"
            ],
            "image/png": "[encoded data removed]"
          },
          "metadata": {},
          "execution_count": 53
        }
      ]
    },
    {
      "cell_type": "markdown",
      "source": [
        "## 1.g Simule o circuito da figura 1 no Falstad e compare as curvas observadas com os resultados obtidos no item d."
      ],
      "metadata": {
        "id": "7dzjoxwwCqLp"
      }
    },
    {
      "cell_type": "markdown",
      "source": [
        "Gráfico de Vc(t) no Falstad\n",
        "\n",
        "![tensaoCapacitor.png](data:image/png;base64,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)"
      ],
      "metadata": {
        "id": "wF_JJb-wC2ok"
      }
    },
    {
      "cell_type": "markdown",
      "source": [
        "Gráfico de IL1(t) no Falstad\n",
        "\n",
        "![correnteil1.png](data:image/png;base64,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)"
      ],
      "metadata": {
        "id": "FmLteRZjDF4u"
      }
    },
    {
      "cell_type": "markdown",
      "source": [
        "Gráfico de IL2(t) no Falstad\n",
        "\n",
        "![correnteil2.png](data:image/png;base64,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)"
      ],
      "metadata": {
        "id": "i2P80msLDP25"
      }
    },
    {
      "cell_type": "markdown",
      "source": [
        "### Conclusão\n",
        "\n",
        "Apesar das escalas estarem um pouco diferente dos gráficos plotados na letra f, percebemos que os valores de picos são consistentes entre os gráficos."
      ],
      "metadata": {
        "id": "O_Sw5JCaDYK1"
      }
    },
    {
      "cell_type": "markdown",
      "source": [
        "# Questão 2"
      ],
      "metadata": {
        "id": "5DEb49s4aTnw"
      }
    },
    {
      "cell_type": "markdown",
      "source": [
        "### Calculando a contribuição de Va"
      ],
      "metadata": {
        "id": "tg6M1gpji-oH"
      }
    },
    {
      "cell_type": "code",
      "source": [
        "Va, Vb, Vn, Vna, s, Ia, Il, Ila, Ic = sp.symbols('V_a, V_b, V_n, V_n_, s, I_a, I_l, I_l_, I_c')\n",
        "\n",
        "Ia = ((Va/s) - Vn)/(0.5*(s))\n",
        "Il = Vn/(2+0.5*s)\n",
        "Ic = (s*Vn)/4000\n",
        "\n",
        "eq1 = sp.Eq(Ia, Il + Ic)\n",
        "eq1 = eq1.subs({Va:20})\n",
        "sol1 = sp.solve(eq1, Vn, dict=True)[0]\n",
        "\n",
        "Vna = sol1[Vn]\n",
        "Ila = Il.subs({Vn:Vna})"
      ],
      "metadata": {
        "id": "fX7pKGa0fM1W"
      },
      "execution_count": 68,
      "outputs": []
    },
    {
      "cell_type": "code",
      "source": [
        "Vna = Vna.simplify()\n",
        "Vna"
      ],
      "metadata": {
        "colab": {
          "base_uri": "https://localhost:8080/",
          "height": 55
        },
        "id": "pSnfUNeZkJuY",
        "outputId": "4d4338d1-95d8-453a-b358-844aaa20361f"
      },
      "execution_count": 70,
      "outputs": [
        {
          "output_type": "execute_result",
          "data": {
            "text/plain": [
              "(160000.0*s + 640000.0)/(s*(s**3 + 4.0*s**2 + 16000.0*s + 32000.0))"
            ],
            "text/latex": "$\\displaystyle \\frac{160000.0 s + 640000.0}{s \\left(s^{3} + 4.0 s^{2} + 16000.0 s + 32000.0\\right)}$"
          },
          "metadata": {},
          "execution_count": 70
        }
      ]
    },
    {
      "cell_type": "code",
      "source": [
        "Ib, Vnb, Vc2 = sp.symbols('I_l__, V_n__, V_c__')\n",
        "\n",
        "Ib = (-s*Vn)/(0.5*(s**2))\n",
        "Il = Vn/(2+0.5*s)\n",
        "Ic = ((s*Vn)-Vb)/4000\n",
        "\n",
        "eq2 = sp.Eq(Ib, Il + Ic)\n",
        "eq2 = eq2.subs({Vb:10})\n",
        "sol2 = sp.solve(eq2, Vn, dict=True)[0]\n",
        "\n",
        "Vnb = sol2[Vn]\n",
        "Ilb = Il.subs({Vn:Vnb})\n",
        "Ilb.simplify()\n",
        "Vc2 = (Ic*(4000/s)).subs({Vn:Vnb, Vb:10})\n",
        "Ilb.simplify()"
      ],
      "metadata": {
        "colab": {
          "base_uri": "https://localhost:8080/",
          "height": 52
        },
        "id": "eQ7bUxjDocxg",
        "outputId": "c87cf325-dca2-4540-89cf-b55759e075b0"
      },
      "execution_count": 51,
      "outputs": [
        {
          "output_type": "execute_result",
          "data": {
            "text/plain": [
              "10.0*s/(0.5*s**3 + 2.0*s**2 + 8000.0*s + 16000.0)"
            ],
            "text/latex": "$\\displaystyle \\frac{10.0 s}{0.5 s^{3} + 2.0 s^{2} + 8000.0 s + 16000.0}$"
          },
          "metadata": {},
          "execution_count": 51
        }
      ]
    },
    {
      "cell_type": "code",
      "source": [
        "Vnb = Vnb.simplify()\n",
        "Vnb"
      ],
      "metadata": {
        "colab": {
          "base_uri": "https://localhost:8080/",
          "height": 54
        },
        "id": "7sd2YzNcqyO4",
        "outputId": "9bcfb270-0b33-4e62-e846-0fa962b53963"
      },
      "execution_count": 71,
      "outputs": [
        {
          "output_type": "execute_result",
          "data": {
            "text/plain": [
              "10.0*s*(s + 4.0)/(s**3 + 4.0*s**2 + 16000.0*s + 32000.0)"
            ],
            "text/latex": "$\\displaystyle \\frac{10.0 s \\left(s + 4.0\\right)}{s^{3} + 4.0 s^{2} + 16000.0 s + 32000.0}$"
          },
          "metadata": {},
          "execution_count": 71
        }
      ]
    },
    {
      "cell_type": "code",
      "source": [
        "Vc2.simplify()"
      ],
      "metadata": {
        "colab": {
          "base_uri": "https://localhost:8080/",
          "height": 55
        },
        "id": "Z85dJThMp8wO",
        "outputId": "9772254c-f289-4341-95ab-d229fd4c9a8c"
      },
      "execution_count": 49,
      "outputs": [
        {
          "output_type": "execute_result",
          "data": {
            "text/plain": [
              "-(160000.0*s + 320000.0)/(s*(1.0*s**3 + 4.0*s**2 + 16000.0*s + 32000.0))"
            ],
            "text/latex": "$\\displaystyle - \\frac{160000.0 s + 320000.0}{s \\left(1.0 s^{3} + 4.0 s^{2} + 16000.0 s + 32000.0\\right)}$"
          },
          "metadata": {},
          "execution_count": 49
        }
      ]
    },
    {
      "cell_type": "code",
      "source": [
        "Ila = Ila.simplify()\n",
        "Ila"
      ],
      "metadata": {
        "colab": {
          "base_uri": "https://localhost:8080/",
          "height": 55
        },
        "id": "27vFgcXit5GI",
        "outputId": "c6d81700-50bf-4f09-f086-356f41470402"
      },
      "execution_count": 57,
      "outputs": [
        {
          "output_type": "execute_result",
          "data": {
            "text/plain": [
              "160000.0/(s*(0.5*s**3 + 2.0*s**2 + 8000.0*s + 16000.0))"
            ],
            "text/latex": "$\\displaystyle \\frac{160000.0}{s \\left(0.5 s^{3} + 2.0 s^{2} + 8000.0 s + 16000.0\\right)}$"
          },
          "metadata": {},
          "execution_count": 57
        }
      ]
    },
    {
      "cell_type": "code",
      "source": [
        "Ilb = Ilb.simplify()\n",
        "Ilb"
      ],
      "metadata": {
        "colab": {
          "base_uri": "https://localhost:8080/",
          "height": 52
        },
        "id": "BcJ4CPDut6IQ",
        "outputId": "d3240831-0ba8-47dc-8f24-974d93040a1c"
      },
      "execution_count": 61,
      "outputs": [
        {
          "output_type": "execute_result",
          "data": {
            "text/plain": [
              "10.0*s/(0.5*s**3 + 2.0*s**2 + 8000.0*s + 16000.0)"
            ],
            "text/latex": "$\\displaystyle \\frac{10.0 s}{0.5 s^{3} + 2.0 s^{2} + 8000.0 s + 16000.0}$"
          },
          "metadata": {},
          "execution_count": 61
        }
      ]
    },
    {
      "cell_type": "code",
      "source": [
        "Il = Ila + Ilb\n",
        "Il.simplify()\n",
        "Il.cancel()"
      ],
      "metadata": {
        "colab": {
          "base_uri": "https://localhost:8080/",
          "height": 55
        },
        "id": "hVvpmkextqpW",
        "outputId": "e22ff0f8-b26a-4e2a-f205-725484c61114"
      },
      "execution_count": 62,
      "outputs": [
        {
          "output_type": "execute_result",
          "data": {
            "text/plain": [
              "(10.0*s**2 + 160000.0)/(0.5*s**4 + 2.0*s**3 + 8000.0*s**2 + 16000.0*s)"
            ],
            "text/latex": "$\\displaystyle \\frac{10.0 s^{2} + 160000.0}{0.5 s^{4} + 2.0 s^{3} + 8000.0 s^{2} + 16000.0 s}$"
          },
          "metadata": {},
          "execution_count": 62
        }
      ]
    },
    {
      "cell_type": "code",
      "source": [
        "Vc = Vna + Vc2\n",
        "Vc.simplify()\n",
        "Vc.cancel()"
      ],
      "metadata": {
        "colab": {
          "base_uri": "https://localhost:8080/",
          "height": 52
        },
        "id": "_bAkDCptuXE_",
        "outputId": "2378a4b5-30bf-4fd6-b161-ac367b6e7d11"
      },
      "execution_count": 72,
      "outputs": [
        {
          "output_type": "execute_result",
          "data": {
            "text/plain": [
              "320000.0/(1.0*s**4 + 4.0*s**3 + 16000.0*s**2 + 32000.0*s)"
            ],
            "text/latex": "$\\displaystyle \\frac{320000.0}{1.0 s^{4} + 4.0 s^{3} + 16000.0 s^{2} + 32000.0 s}$"
          },
          "metadata": {},
          "execution_count": 72
        }
      ]
    }
  ],
  "metadata": {
    "colab": {
      "collapsed_sections": [],
      "name": "Lista  de CE",
      "toc_visible": true,
      "provenance": [],
      "include_colab_link": true
    },
    "kernelspec": {
      "display_name": "Python 3",
      "name": "python3"
    }
  },
  "nbformat": 4,
  "nbformat_minor": 0
}